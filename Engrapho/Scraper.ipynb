{
 "cells": [
  {
   "cell_type": "code",
   "execution_count": 19,
   "metadata": {},
   "outputs": [],
   "source": [
    "import os\n",
    "import PyPDF2"
   ]
  },
  {
   "cell_type": "code",
   "execution_count": 11,
   "metadata": {},
   "outputs": [],
   "source": [
    "filename = os.listdir('Files/')[0]"
   ]
  },
  {
   "cell_type": "code",
   "execution_count": 18,
   "metadata": {},
   "outputs": [
    {
     "name": "stderr",
     "output_type": "stream",
     "text": [
      "PdfReadWarning: Xref table not zero-indexed. ID numbers for objects will be corrected. [pdf.py:1736]\n"
     ]
    }
   ],
   "source": [
    "pdf_to_read = PyPDF2.PdfFileReader(open('Files/'+filename, 'rb'))"
   ]
  },
  {
   "cell_type": "code",
   "execution_count": 15,
   "metadata": {},
   "outputs": [],
   "source": [
    "pdf_info = pdf_to_read.getDocumentInfo()"
   ]
  },
  {
   "cell_type": "code",
   "execution_count": 16,
   "metadata": {},
   "outputs": [
    {
     "name": "stdout",
     "output_type": "stream",
     "text": [
      "{'/CreationDate': \"D:20060410190724-07'00'\", '/Title': 'untitled', '/ModDate': \"D:20060410191034-07'00'\", '/Producer': 'Acrobat Distiller 7.0 for Macintosh'}\n"
     ]
    }
   ],
   "source": [
    "print(str(pdf_info))"
   ]
  },
  {
   "cell_type": "code",
   "execution_count": 20,
   "metadata": {},
   "outputs": [],
   "source": [
    "import micawber"
   ]
  },
  {
   "cell_type": "code",
   "execution_count": 21,
   "metadata": {},
   "outputs": [],
   "source": [
    "providers = micawber.bootstrap_basic()"
   ]
  },
  {
   "cell_type": "code",
   "execution_count": 23,
   "metadata": {},
   "outputs": [
    {
     "data": {
      "text/plain": [
       "{'author_name': 'Pascal Brax',\n",
       " 'author_url': 'https://www.youtube.com/user/pascalbrax',\n",
       " 'height': 344,\n",
       " 'html': '<iframe width=\"459\" height=\"344\" src=\"https://www.youtube.com/embed/54XHDUOHuzU?feature=oembed\" frameborder=\"0\" allow=\"accelerometer; autoplay; encrypted-media; gyroscope; picture-in-picture\" allowfullscreen></iframe>',\n",
       " 'provider_name': 'YouTube',\n",
       " 'provider_url': 'https://www.youtube.com/',\n",
       " 'thumbnail_height': 360,\n",
       " 'thumbnail_url': 'https://i.ytimg.com/vi/54XHDUOHuzU/hqdefault.jpg',\n",
       " 'thumbnail_width': 480,\n",
       " 'title': 'Future Crew - Second Reality demo - HD',\n",
       " 'type': 'video',\n",
       " 'url': 'http://www.youtube.com/watch?v=54XHDUOHuzU',\n",
       " 'version': '1.0',\n",
       " 'width': 459}"
      ]
     },
     "execution_count": 23,
     "metadata": {},
     "output_type": "execute_result"
    }
   ],
   "source": [
    "providers.request('http://www.youtube.com/watch?v=54XHDUOHuzU')"
   ]
  },
  {
   "cell_type": "code",
   "execution_count": null,
   "metadata": {},
   "outputs": [],
   "source": []
  }
 ],
 "metadata": {
  "kernelspec": {
   "display_name": "Python 3",
   "language": "python",
   "name": "python3"
  },
  "language_info": {
   "codemirror_mode": {
    "name": "ipython",
    "version": 3
   },
   "file_extension": ".py",
   "mimetype": "text/x-python",
   "name": "python",
   "nbconvert_exporter": "python",
   "pygments_lexer": "ipython3",
   "version": "3.5.2"
  }
 },
 "nbformat": 4,
 "nbformat_minor": 2
}
